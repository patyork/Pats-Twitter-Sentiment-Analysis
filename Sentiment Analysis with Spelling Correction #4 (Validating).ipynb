{
 "metadata": {
  "name": ""
 },
 "nbformat": 3,
 "nbformat_minor": 0,
 "worksheets": [
  {
   "cells": [
    {
     "cell_type": "heading",
     "level": 1,
     "metadata": {},
     "source": [
      "Twitter Sentiment Analysis"
     ]
    },
    {
     "cell_type": "heading",
     "level": 2,
     "metadata": {},
     "source": [
      "Process"
     ]
    },
    {
     "cell_type": "markdown",
     "metadata": {},
     "source": [
      "* Train/Test on Very Positive/Very Negative Amazon Reviews uisng NLTK's Naive-Bayes\n",
      "    * For each Review\n",
      "        * Spelling Correct the Review\n",
      "        * Lemmatize each word\n",
      "        * Return a good Review\n",
      "    * Train on a large set of the corrected reviews\n",
      "    * Test on a set of manually-labeled Tweets\n",
      "    * Pickle the best Classifier\n",
      "    * [TODO] Preview a set of automatically Classified Tweets"
     ]
    },
    {
     "cell_type": "markdown",
     "metadata": {},
     "source": [
      "**A Note on the Reviews used**\n",
      "\n",
      "The Amazon Reviews were preprocessed in the following way:\n",
      "\n",
      "* Only reviews of 5.0 (very positive) and 1.0 (very negative) were considered\n",
      "* Only reviews with 4 Helpfulness ratings, and at least 75% of them rated as 'Helpful'"
     ]
    },
    {
     "cell_type": "heading",
     "level": 2,
     "metadata": {},
     "source": [
      "Training"
     ]
    },
    {
     "cell_type": "code",
     "collapsed": false,
     "input": [
      "import gzip\n",
      "from nltk.stem.wordnet import WordNetLemmatizer\n",
      "from SpellingCorrectorNew import SpellingCorrector as SC\n",
      "\n",
      "import time\t\t#how fast are we going?\n",
      "from nltk.classify import NaiveBayesClassifier\n",
      "import nltk.classify.util\n",
      "\n",
      "import random\n",
      "\n",
      "import itertools"
     ],
     "language": "python",
     "metadata": {},
     "outputs": [],
     "prompt_number": 1
    },
    {
     "cell_type": "code",
     "collapsed": false,
     "input": [
      "# This is our spelling corrector\n",
      "corrector = SC.SpellingCorrector()\n",
      "#corrector = None"
     ],
     "language": "python",
     "metadata": {},
     "outputs": [],
     "prompt_number": 2
    },
    {
     "cell_type": "code",
     "collapsed": false,
     "input": [
      "# This is our lemmatizer\n",
      "lmtzr = WordNetLemmatizer()"
     ],
     "language": "python",
     "metadata": {},
     "outputs": [],
     "prompt_number": 3
    },
    {
     "cell_type": "code",
     "collapsed": false,
     "input": [
      "# Word beginnings we want to ignore\n",
      "ignoreWordBeginnings = ['@', 'http://', 'rt']"
     ],
     "language": "python",
     "metadata": {},
     "outputs": [],
     "prompt_number": 4
    },
    {
     "cell_type": "code",
     "collapsed": false,
     "input": [
      "# Generate a distributed subset of the Positive Reviews (Lemmatized)\n",
      "def generateCorrectedPos(count):\n",
      "    if count == -1:\n",
      "        skip = 1\n",
      "    else: skip = int(367818 / count)\n",
      "    with gzip.open('/media/pat/sda3/very-pos-spelling-corrected.txt.gz', 'rb') as pos:\n",
      "        counter = 0\n",
      "        for review in pos:\n",
      "            \n",
      "            if counter % skip == 0:\n",
      "                # Correct, lemmatize, and yield a review\n",
      "                yield [word for word in review.strip().split(' ')]\n",
      "            \n",
      "            counter += 1"
     ],
     "language": "python",
     "metadata": {},
     "outputs": [],
     "prompt_number": 5
    },
    {
     "cell_type": "code",
     "collapsed": false,
     "input": [
      "# Generate a distributed subset of the Negative Reviews (lemmatized)\n",
      "def generateCorrectedNeg(count):\n",
      "    if count == -1:\n",
      "        skip = 1\n",
      "    else: skip = int(355184 / count)\n",
      "    with gzip.open('/media/pat/sda3/very-neg-spelling-corrected.txt.gz', 'rb') as pos:\n",
      "        counter = 0\n",
      "        for review in pos:\n",
      "            \n",
      "            if counter % skip == 0:\n",
      "                # Correct, lemmatize, and yield a review\n",
      "                yield [word for word in review.strip().split(' ')]\n",
      "            \n",
      "            counter += 1"
     ],
     "language": "python",
     "metadata": {},
     "outputs": [],
     "prompt_number": 6
    },
    {
     "cell_type": "code",
     "collapsed": false,
     "input": [
      "# This function generates a Lemmatized dictionary of Features\n",
      "def word_feats(words, lemmatize):\n",
      "\twordsAndGrams = [word for word in words]# + [a + ' ' + b for a,b in bigrams(words)]\n",
      "\tif lemmatize: return dict([(lmtzr.lemmatize(word.lower()), True) for word in wordsAndGrams])\n",
      "\telse: return dict([(word, True) for word in wordsAndGrams])"
     ],
     "language": "python",
     "metadata": {},
     "outputs": [],
     "prompt_number": 7
    },
    {
     "cell_type": "code",
     "collapsed": false,
     "input": [
      "# This function generates a dictionary of Features from a pre-lemmatized list\n",
      "def word_feats_Lemma(words):\n",
      "\treturn dict([(word, True) for word in words])"
     ],
     "language": "python",
     "metadata": {},
     "outputs": [],
     "prompt_number": 8
    },
    {
     "cell_type": "code",
     "collapsed": false,
     "input": [],
     "language": "python",
     "metadata": {},
     "outputs": [],
     "prompt_number": 8
    },
    {
     "cell_type": "code",
     "collapsed": false,
     "input": [
      "negativeReviews = [x for x in generateCorrectedNeg(-1)]"
     ],
     "language": "python",
     "metadata": {},
     "outputs": [],
     "prompt_number": 9
    },
    {
     "cell_type": "code",
     "collapsed": false,
     "input": [
      "positiveReviews = [x for x in generateCorrectedPos(-1)]"
     ],
     "language": "python",
     "metadata": {},
     "outputs": [],
     "prompt_number": 10
    },
    {
     "cell_type": "code",
     "collapsed": false,
     "input": [
      "random.shuffle(negativeReviews)"
     ],
     "language": "python",
     "metadata": {},
     "outputs": [],
     "prompt_number": 11
    },
    {
     "cell_type": "code",
     "collapsed": false,
     "input": [
      "random.shuffle(positiveReviews)"
     ],
     "language": "python",
     "metadata": {},
     "outputs": [],
     "prompt_number": 12
    },
    {
     "cell_type": "code",
     "collapsed": false,
     "input": [
      "def TrainInMemory(negCut, posCut):\n",
      "    \n",
      "    # Let's build the fully trained models\n",
      "    start = time.clock()\n",
      "    sentimentClassifierLPLC = nltk.NaiveBayesClassifier.train([ ( word_feats( review, False ), 'neg' ) for review in negativeReviews[:negCut]] + [ ( word_feats( review, False ), 'pos' ) for review in positiveReviews[:posCut]], estimator=nltk.probability.LaplaceProbDist)\n",
      "    end = time.clock()\n",
      "    print 'Laplace Classifier trained in', str(end-start)\n",
      "\t\n",
      "    return sentimentClassifierLPLC"
     ],
     "language": "python",
     "metadata": {},
     "outputs": [],
     "prompt_number": 13
    },
    {
     "cell_type": "code",
     "collapsed": false,
     "input": [
      "#Classifier = Train(100000)\n",
      "\n",
      "NegCutoff = int(len(negativeReviews)*.86)\n",
      "PosCutoff = int(len(positiveReviews)*.60)\n",
      "print NegCutoff, PosCutoff\n",
      "\n",
      "negativeReviews = negativeReviews[:NegCutoff]\n",
      "positiveReviews = positiveReviews[:PosCutoff]"
     ],
     "language": "python",
     "metadata": {},
     "outputs": [
      {
       "output_type": "stream",
       "stream": "stdout",
       "text": [
        "305458 220690\n"
       ]
      }
     ],
     "prompt_number": 14
    },
    {
     "cell_type": "code",
     "collapsed": false,
     "input": [
      "# Feature counts\n",
      "negFeatCount = 0\n",
      "for x in negativeReviews[:NegCutoff]:\n",
      "    negFeatCount += len(x)\n",
      "\n",
      "posFeatCount = 0\n",
      "for x in positiveReviews[:PosCutoff]:\n",
      "    posFeatCount += len(x)\n",
      "    \n",
      "print 'Negative word count', negFeatCount\n",
      "print 'Positive word count', posFeatCount"
     ],
     "language": "python",
     "metadata": {},
     "outputs": [
      {
       "output_type": "stream",
       "stream": "stdout",
       "text": [
        "Negative word count 33948995\n",
        "Positive word count 33430493\n"
       ]
      }
     ],
     "prompt_number": 15
    },
    {
     "cell_type": "code",
     "collapsed": false,
     "input": [],
     "language": "python",
     "metadata": {},
     "outputs": [],
     "prompt_number": 15
    },
    {
     "cell_type": "code",
     "collapsed": false,
     "input": [
      "Classifier = TrainInMemory(NegCutoff, PosCutoff)"
     ],
     "language": "python",
     "metadata": {},
     "outputs": [
      {
       "output_type": "stream",
       "stream": "stdout",
       "text": [
        "Laplace Classifier trained in 95.98\n"
       ]
      }
     ],
     "prompt_number": 16
    },
    {
     "cell_type": "code",
     "collapsed": false,
     "input": [],
     "language": "python",
     "metadata": {},
     "outputs": [],
     "prompt_number": 22
    },
    {
     "cell_type": "code",
     "collapsed": false,
     "input": [
      "def ValidateTraining(negRatio, posRatio):\n",
      "    NegCutoff = int(len(negativeReviews)*negRatio)\n",
      "    PosCutoff = int(len(positiveReviews)*posRatio)\n",
      "    \n",
      "    return TrainInMemory(NegCutoff, PosCutoff)"
     ],
     "language": "python",
     "metadata": {},
     "outputs": [],
     "prompt_number": 13
    },
    {
     "cell_type": "heading",
     "level": 2,
     "metadata": {},
     "source": [
      "Test"
     ]
    },
    {
     "cell_type": "code",
     "collapsed": false,
     "input": [
      "import cPickle as pickle\n",
      "Classifier = pickle.load(open('C36.1.p', 'rb'))"
     ],
     "language": "python",
     "metadata": {},
     "outputs": [],
     "prompt_number": 10
    },
    {
     "cell_type": "code",
     "collapsed": false,
     "input": [
      "Classifier2 = pickle.load(gzip.open('/media/pat/sda3/TwitterSentimentClassifier.p', 'rb'))"
     ],
     "language": "python",
     "metadata": {},
     "outputs": [],
     "prompt_number": 97
    },
    {
     "cell_type": "code",
     "collapsed": false,
     "input": [
      "def RecursivelyClassify(_Classifier, phrase, windowSize=5, mode=3):\n",
      "    cleanWords = []\n",
      "    for word in phrase.split(' '):\n",
      "        output = True\n",
      "        for prefix in ignoreWordBeginnings:\n",
      "            if word.startswith(prefix):\n",
      "                output = False\n",
      "        \n",
      "        if output:\n",
      "            if word.startswith('#'):\n",
      "                tmp = [x for x in corrector.HashTagSplit(word)]\n",
      "                for x in tmp:\n",
      "                    cleanWords.append(x)\n",
      "            else:\n",
      "                cleanWords.append(word)\n",
      "            \n",
      "    corrected = [x for x in corrector.CorrectSpelling(' '.join(cleanWords)) if x != None]\n",
      "            \n",
      "    # Theory: Window a phrase in every possible way will yield better results\n",
      "    totalSent = 0\n",
      "    count = 0\n",
      "    \n",
      "    posTot = 0.0\n",
      "    negTot = 0.0\n",
      "    \n",
      "    if len(corrected) < 1: return None\n",
      "    \n",
      "    \n",
      "    #windowSize = 7\n",
      "\n",
      "    windows = []\n",
      "    if len(corrected) > windowSize:\n",
      "        for i in xrange(0, len(corrected) - windowSize + 1):\n",
      "            windows.append(corrected[i:i + windowSize])\n",
      "    else: windows.append(corrected)\n",
      "        \n",
      "    #print windows\n",
      "    \n",
      "    #Set of already calculated 'ranges'\n",
      "    alreadyCalcd = {}\n",
      "    \n",
      "    for windowed in windows:\n",
      "        permutes = []\n",
      "        if mode == 1: #Basic\n",
      "            tmp = [list(x) for x in itertools.permutations(windowed)]\n",
      "            random.shuffle(tmp)\n",
      "            permutes = tmp[:windowSize**3]   # tmp is (at most) length (windowSize)! (factorial); let's cut it down\n",
      "        \n",
      "        elif mode == 2: #Basic with some randomness thrown in for good measure\n",
      "            winFac = math.factorial(len(windowed))\n",
      "            winCutoff = len(windowed)**3\n",
      "            permutes = [list(x) for x in itertools.permutations(windowed) if random.randint(1,winFac) < winCutoff]\n",
      "        \n",
      "        elif mode == 3:\n",
      "            ## Explanation:\n",
      "            ## Below, we will look at all unigrams & bigrams, and see how any possible bigram affects the Sentiment\n",
      "            ## Mathematically, every unigram occurs in the first permuation (obviously)\n",
      "            ##                 every bigram occurs in the first n+1 permutations (where n is the count of items that are permutated)\n",
      "            ## So, every possible bigram and unigram occurs in the first n+1 permutations (given Python's permutation order)\n",
      "            permutes = [list(x) for i, x in enumerate(itertools.permutations(windowed)) if i < (len(windowed)+1)]\n",
      "            #permutes = [list(x) for i, x in enumerate(itertools.permutations(windowed))]\n",
      "        \n",
      "        #print '\\t', len(permutes)\n",
      "        \n",
      "        #for i in range(len(corrected), 0, -1):\n",
      "        #for i in range(4, 0, -1):  #58, 28, 38.9\n",
      "        for perm in permutes:\n",
      "            for i in range(2, 0, -1):  #45, 35, 39.9\n",
      "                for j in range(0, len(perm) - i + 1):\n",
      "                    #print i, j\n",
      "                    #print '\\t', corrected[j:j+i]\n",
      "                    \n",
      "                    key = ''.join(perm[j:j+i])\n",
      "                    if key in alreadyCalcd:\n",
      "                        \n",
      "                        '''if alreadyCalcd[key] > .6 or alreadyCalcd[key] < .5:\n",
      "                            posTot += alreadyCalcd[key]\n",
      "                            count += 1'''\n",
      "                        \n",
      "                        posTot += alreadyCalcd[key]\n",
      "                        \n",
      "                    else:\n",
      "                    \n",
      "                        pdist = _Classifier.prob_classify( word_feats(perm[j:j+i], False) )\n",
      "                        pos = pdist.prob('pos')\n",
      "                        neg = pdist.prob('neg')\n",
      "                    \n",
      "                        '''if pos > .6 or pos < .5:\n",
      "                            posTot += pos\n",
      "                            count += 1'''\n",
      "                        \n",
      "                        posTot += pos\n",
      "                        \n",
      "                        alreadyCalcd.update({key:pos})\n",
      "                    \n",
      "                    count += 1\n",
      "\n",
      "    try:\n",
      "        posTot /= float(count)\n",
      "    except:\n",
      "        return 0\n",
      "    if posTot > .5: return 1\n",
      "    else: return -1\n",
      "    \n",
      "    '''try:\n",
      "        posTot /= float(count)\n",
      "    except:\n",
      "        return 0\n",
      "    if posTot > .5: return 1\n",
      "    elif posTot < .5: return -1\n",
      "    else: return 0'''\n",
      "    "
     ],
     "language": "python",
     "metadata": {},
     "outputs": [],
     "prompt_number": 11
    },
    {
     "cell_type": "code",
     "collapsed": false,
     "input": [
      "#RecursivelyClassify('My dreams were shattered years ago.')\n",
      "start = time.clock()\n",
      "print RecursivelyClassify(Classifier, 'Dope body dressed like pure garbage') #-1\n",
      "print RecursivelyClassify(Classifier, 'Sometimes, taking stupid risks is what makes life worth living...!!!') #1\n",
      "print RecursivelyClassify(Classifier, 'Man I can\\'t wait for Corpus!') #1\n",
      "print RecursivelyClassify(Classifier, 'Can I just cry to you and tell you everything won\\'t be okay') #-1\n",
      "\n",
      "print '\\n', time.clock() - start"
     ],
     "language": "python",
     "metadata": {},
     "outputs": [
      {
       "output_type": "stream",
       "stream": "stdout",
       "text": [
        "1\n",
        "1\n",
        "1\n",
        "-1\n",
        "\n",
        "0.0\n"
       ]
      }
     ],
     "prompt_number": 12
    },
    {
     "cell_type": "code",
     "collapsed": false,
     "input": [],
     "language": "python",
     "metadata": {},
     "outputs": []
    },
    {
     "cell_type": "code",
     "collapsed": false,
     "input": [],
     "language": "python",
     "metadata": {},
     "outputs": []
    },
    {
     "cell_type": "code",
     "collapsed": false,
     "input": [
      "def Validate(_Classifier, winSize=7, mode=3):\n",
      "    start = time.clock()\n",
      "    negWrong = 0\n",
      "    posWrong = 0\n",
      "    \n",
      "    negTotal = 0\n",
      "    posTotal = 0\n",
      "    \n",
      "    with open('ratedTweets.txt', 'r') as f:\n",
      "        for line in f:\n",
      "            splat = line.strip().split('|;|')\n",
      "            #if len(splat[1].split(' ')) < 8:\n",
      "            actual = int(splat[0])\n",
      "            #guessed = Classify(splat[1])\n",
      "            guessed = RecursivelyClassify(_Classifier, splat[1], winSize, mode)\n",
      "            \n",
      "            if guessed != None:\n",
      "                if( actual != guessed):\n",
      "                    #print guessed, actual, splat[1]\n",
      "                    if actual == 1:\n",
      "                        posWrong += 1\n",
      "                    else:\n",
      "                        negWrong += 1\n",
      "                            \n",
      "                if actual == 1:\n",
      "                    posTotal += 1\n",
      "                else:\n",
      "                    negTotal += 1\n",
      "    end = time.clock()\n",
      "    '''print 'Neg Tot   ', negTotal\n",
      "    print 'Neg Wrong ', negWrong\n",
      "    print 'Pcnt Error', float(negWrong*100)/float(negTotal)\n",
      "    \n",
      "    print '\\nPos Tot   ', posTotal\n",
      "    print 'Pos Wrong ', posWrong\n",
      "    print 'Pcnt Error', float(posWrong*100)/float(posTotal)\n",
      "    \n",
      "    print '\\nTot   ', posTotal +negTotal\n",
      "    print 'Wrong ', posWrong + negWrong\n",
      "    print 'Pcnt Error', float((posWrong+negWrong)*100)/float(posTotal+negTotal)\n",
      "    \n",
      "    print '\\nTime', end - start'''\n",
      "    \n",
      "    # Neg Error %, Pos Error %, Total Error %\n",
      "    return (float(negWrong*100)/float(negTotal), float(posWrong*100)/float(posTotal), float((posWrong+negWrong)*100)/float(posTotal+negTotal))"
     ],
     "language": "python",
     "metadata": {},
     "outputs": [],
     "prompt_number": 13
    },
    {
     "cell_type": "code",
     "collapsed": false,
     "input": [
      "'''# Validate via Method 3\n",
      "for nr in xrange(100, 200, 10):\n",
      "    for pr in xrange(0, nr, 1):\n",
      "        \n",
      "        PR = float(pr) / float(1000)\n",
      "        NR = float(nr) / float(1000)\n",
      "                        \n",
      "        if (PR <= NR / float(1.25)) and (PR >= (NR / float(1.67))):\n",
      "            Classifier = ValidateTraining( NR, PR)\n",
      "            print NR, PR\n",
      "            \n",
      "            for winS in range(1, 8):\n",
      "                out = Validate(Classifier, winS, 3)\n",
      "                \n",
      "                if out[0] < 50 and out[1] < 50: # only print if better than random\n",
      "                    print '\\t', winS\n",
      "                    print '\\t\\t', 3, Validate(Classifier, winS, 3)'''"
     ],
     "language": "python",
     "metadata": {},
     "outputs": [
      {
       "metadata": {},
       "output_type": "pyout",
       "prompt_number": 20,
       "text": [
        "\"# Validate via Method 3\\nfor nr in xrange(100, 200, 10):\\n    for pr in xrange(0, nr, 1):\\n        \\n        PR = float(pr) / float(1000)\\n        NR = float(nr) / float(1000)\\n                        \\n        if (PR <= NR / float(1.25)) and (PR >= (NR / float(1.67))):\\n            Classifier = ValidateTraining( NR, PR)\\n            print NR, PR\\n            \\n            for winS in range(1, 8):\\n                out = Validate(Classifier, winS, 3)\\n                \\n                if out[0] < 50 and out[1] < 50: # only print if better than random\\n                    print '\\t', winS\\n                    print '\\t\\t', 3, Validate(Classifier, winS, 3)\""
       ]
      }
     ],
     "prompt_number": 20
    },
    {
     "cell_type": "code",
     "collapsed": false,
     "input": [
      "print Validate(Classifier, 4, 3)\n",
      "print Validate(Classifier, 5, 3)\n",
      "print Validate(Classifier, 6, 3)"
     ],
     "language": "python",
     "metadata": {},
     "outputs": [
      {
       "output_type": "stream",
       "stream": "stdout",
       "text": [
        "(36.12334801762115, 33.60995850622407, 34.82905982905983)\n",
        "(35.68281938325991, 33.19502074688797, 34.401709401709404)"
       ]
      },
      {
       "output_type": "stream",
       "stream": "stdout",
       "text": [
        "\n",
        "(35.68281938325991, 35.684647302904565, 35.68376068376068)"
       ]
      },
      {
       "output_type": "stream",
       "stream": "stdout",
       "text": [
        "\n"
       ]
      }
     ],
     "prompt_number": 14
    },
    {
     "cell_type": "code",
     "collapsed": false,
     "input": [
      "#import cPickle as pickle\n",
      "#pickle.dump(Classifier, open('', 'wb'))"
     ],
     "language": "python",
     "metadata": {},
     "outputs": [],
     "prompt_number": 24
    },
    {
     "cell_type": "code",
     "collapsed": false,
     "input": [],
     "language": "python",
     "metadata": {},
     "outputs": []
    },
    {
     "cell_type": "code",
     "collapsed": false,
     "input": [],
     "language": "python",
     "metadata": {},
     "outputs": []
    },
    {
     "cell_type": "code",
     "collapsed": false,
     "input": [
      "print RecursivelyClassify(Classifier, 'funny')\n",
      "print RecursivelyClassify(Classifier, 'laughing')\n",
      "print RecursivelyClassify(Classifier, 'great')\n",
      "print RecursivelyClassify(Classifier, 'good (:')\n",
      "print RecursivelyClassify(Classifier, 'happy')\n",
      "print RecursivelyClassify(Classifier, 'bad')\n",
      "\n",
      "print RecursivelyClassify(Classifier, 'disappointed') #smh\n",
      "\n",
      "print '\\n', RecursivelyClassify(Classifier, 'fucking terrible')"
     ],
     "language": "python",
     "metadata": {},
     "outputs": [
      {
       "output_type": "stream",
       "stream": "stdout",
       "text": [
        "1\n",
        "1\n",
        "1\n",
        "1\n",
        "1\n",
        "-1\n",
        "-1\n",
        "\n",
        "-1\n"
       ]
      }
     ],
     "prompt_number": 25
    },
    {
     "cell_type": "code",
     "collapsed": false,
     "input": [
      "print [x for x in corrector.HashTagSplit('#twowordsthreefour')]"
     ],
     "language": "python",
     "metadata": {},
     "outputs": [
      {
       "output_type": "stream",
       "stream": "stdout",
       "text": [
        "['two', 'words', 'three', 'four']\n"
       ]
      }
     ],
     "prompt_number": 20
    },
    {
     "cell_type": "code",
     "collapsed": false,
     "input": [],
     "language": "python",
     "metadata": {},
     "outputs": []
    }
   ],
   "metadata": {}
  }
 ]
}